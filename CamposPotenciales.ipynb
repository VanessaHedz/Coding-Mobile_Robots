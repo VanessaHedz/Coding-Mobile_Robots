{
 "cells": [
  {
   "cell_type": "markdown",
   "metadata": {},
   "source": [
    "Funciones\n",
    "1. Resta de puntos/vectores\n",
    "2. Magnitud de un vector\n",
    "3. Normalización de un vector\n",
    "4. Suma de vectores\n",
    "5. Multiplicación por un escalar"
   ]
  },
  {
   "cell_type": "code",
   "execution_count": 1,
   "metadata": {},
   "outputs": [],
   "source": [
    "#Los puntos serán ingresados como listas\n",
    "#Se asume que los puntos tienen la misma cantidad de componentes\n",
    "def restaPuntos(p1,p2):\n",
    "    resta=list()\n",
    "    for i in range (0,len(p1)):\n",
    "        resta.append(p1[i]-p2[i])\n",
    "    return resta\n",
    "\n",
    "def sumaPuntos(p1,p2):\n",
    "    suma=list()\n",
    "    for i in range (0,len(p1)):\n",
    "        suma.append(p1[i]+p2[i])\n",
    "    return suma"
   ]
  },
  {
   "cell_type": "code",
   "execution_count": 2,
   "metadata": {},
   "outputs": [],
   "source": [
    "import math\n",
    "from math import sqrt\n",
    "#Magnitud de un vector, es decir, su magnitud.\n",
    "def magnitudVector(punto):\n",
    "    resultado=0\n",
    "    sumaAuxiliar=0\n",
    "    for i in range(0,len(punto)):\n",
    "        sumaAuxiliar+=abs(punto[i])**2\n",
    "    resultado=sqrt(sumaAuxiliar)\n",
    "    return resultado"
   ]
  },
  {
   "cell_type": "code",
   "execution_count": 3,
   "metadata": {},
   "outputs": [],
   "source": [
    "def vectorNormalizado(punto):\n",
    "    resultado=list()\n",
    "    magnitudPunto=magnitudVector(punto)\n",
    "    for i in range(0,len(punto)):\n",
    "        resultado.append(punto[i]/magnitudPunto)\n",
    "    return resultado"
   ]
  },
  {
   "cell_type": "code",
   "execution_count": 4,
   "metadata": {},
   "outputs": [],
   "source": [
    "def multiplicacion(escalar,punto):\n",
    "    multiplicacion=list()\n",
    "    for i in range(0,len(punto)):\n",
    "        multiplicacion.append(punto[i]*escalar)\n",
    "    return multiplicacion"
   ]
  },
  {
   "cell_type": "markdown",
   "metadata": {},
   "source": [
    "Cálculo de un punto"
   ]
  },
  {
   "cell_type": "code",
   "execution_count": 5,
   "metadata": {},
   "outputs": [],
   "source": [
    "#Punto de inicio: q0\n",
    "#Punto de destino: qdest\n",
    "#Centroide del obstáculo: qobst\n",
    "\n",
    "def puntosRobot(q0,qdest,qobst,e1,d0,n,delt0):\n",
    "    #Los puntos son listas\n",
    "    #Resultados intermedios:\n",
    "        #Fuerza de atracción: Fatr\n",
    "        #Gradiente de repulsión: Drep\n",
    "        #Fuerza total: F\n",
    "        #Fuerza normalizada: f\n",
    "        #nuevo punto: q\n",
    "    Fatr=multiplicacion(e1,restaPuntos(q0,qdest))\n",
    "    resta=restaPuntos(q0,qobst)\n",
    "\n",
    "    #escAux=-n*((1/vectorNormalizado(restaPuntos(q0,qobst)))-(1/d0))*(1/((magnitudVector(q0,qobst))**2))\n",
    "    escAux = -n * ((1 / magnitudVector(restaPuntos(q0, qobst))) - (1 / d0)) * (1 / (magnitudVector(restaPuntos(q0, qobst)) ** 2))\n",
    "    Drep=multiplicacion(escAux,vectorNormalizado(restaPuntos(q0,qobst)))\n",
    "    F=sumaPuntos(Fatr,Drep)\n",
    "    f=vectorNormalizado(F)\n",
    "    q=restaPuntos(q0,multiplicacion(delt0,f))\n",
    "\n",
    "    for i in range(0,len(q)):\n",
    "        q[i]=round(q[i],4)\n",
    "    return q"
   ]
  },
  {
   "cell_type": "code",
   "execution_count": 6,
   "metadata": {},
   "outputs": [
    {
     "name": "stdout",
     "output_type": "stream",
     "text": [
      "[[1, 1], [1, 2]]\n"
     ]
    }
   ],
   "source": [
    "puntosRobot([1,1],[5,4],[2,2],1,5,2,1)\n",
    "\n",
    "#El único punto que cambia, es el de q0.\n",
    "#Estos puntos se van a ir guardando en la siguiente lista:\n",
    "ListaPuntos=[\n",
    "    [1,1]\n",
    "]\n",
    "\n",
    "ListaPuntos.append([1,2])\n",
    "print(ListaPuntos)"
   ]
  },
  {
   "cell_type": "code",
   "execution_count": 7,
   "metadata": {},
   "outputs": [
    {
     "name": "stdout",
     "output_type": "stream",
     "text": [
      "╒════════╤════════╕\n",
      "│      X │      Y │\n",
      "╞════════╪════════╡\n",
      "│ 1      │ 1      │\n",
      "├────────┼────────┤\n",
      "│ 1.8095 │ 1.5872 │\n",
      "├────────┼────────┤\n",
      "│ 1.5009 │ 0.636  │\n",
      "├────────┼────────┤\n",
      "│ 2.2527 │ 1.2953 │\n",
      "├────────┼────────┤\n",
      "│ 3.2182 │ 1.0348 │\n",
      "├────────┼────────┤\n",
      "│ 3.8213 │ 1.8325 │\n",
      "├────────┼────────┤\n",
      "│ 4.3632 │ 2.673  │\n",
      "├────────┼────────┤\n",
      "│ 4.8261 │ 3.5594 │\n",
      "├────────┼────────┤\n",
      "│ 5.2186 │ 4.4792 │\n",
      "├────────┼────────┤\n",
      "│ 4.8081 │ 3.5673 │\n",
      "├────────┼────────┤\n",
      "│ 5.2374 │ 4.4705 │\n",
      "╘════════╧════════╛\n"
     ]
    }
   ],
   "source": [
    "from tabulate import tabulate\n",
    "#VARIABLES:\n",
    "qobst=[2,2]\n",
    "qdest=[5,4]\n",
    "\n",
    "d0=5\n",
    "e1=1\n",
    "n=2\n",
    "delt0=1\n",
    "d1=10\n",
    "\n",
    "ListaPuntos=[[1,1]]\n",
    "\n",
    "for i in range(0,10):\n",
    "    q0=ListaPuntos[i]\n",
    "    ListaPuntos.append(puntosRobot(q0,qdest,qobst,e1,d0,n,delt0))\n",
    "\n",
    "encabezado=[\"X\",\"Y\"]\n",
    "tabla=tabulate(ListaPuntos,headers=encabezado,tablefmt=\"fancy_grid\")\n",
    "print(tabla)"
   ]
  },
  {
   "cell_type": "code",
   "execution_count": 8,
   "metadata": {},
   "outputs": [
    {
     "data": {
      "image/png": "[encoded data removed]",
      "text/plain": [
       "<Figure size 640x480 with 1 Axes>"
      ]
     },
     "metadata": {},
     "output_type": "display_data"
    }
   ],
   "source": [
    "import matplotlib.pyplot as plt\n",
    "x, y = zip(*ListaPuntos)\n",
    "\n",
    "# Crear el gráfico de dispersión\n",
    "plt.scatter(x, y)\n",
    "\n",
    "# Agregar etiquetas y título\n",
    "plt.xlabel('Eje X')\n",
    "plt.ylabel('Eje Y')\n",
    "plt.title('Movimiento del robot')\n",
    "\n",
    "# Mostrar el gráfico\n",
    "plt.show()"
   ]
  }
 ],
 "metadata": {
  "kernelspec": {
   "display_name": "Python 3",
   "language": "python",
   "name": "python3"
  },
  "language_info": {
   "codemirror_mode": {
    "name": "ipython",
    "version": 3
   },
   "file_extension": ".py",
   "mimetype": "text/x-python",
   "name": "python",
   "nbconvert_exporter": "python",
   "pygments_lexer": "ipython3",
   "version": "3.12.1"
  }
 },
 "nbformat": 4,
 "nbformat_minor": 2
}
